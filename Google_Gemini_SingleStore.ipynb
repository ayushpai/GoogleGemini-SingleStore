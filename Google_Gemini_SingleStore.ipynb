{
  "nbformat": 4,
  "nbformat_minor": 0,
  "metadata": {
    "colab": {
      "provenance": [],
      "machine_shape": "hm",
      "gpuType": "T4"
    },
    "kernelspec": {
      "name": "python3",
      "display_name": "Python 3"
    },
    "language_info": {
      "name": "python"
    },
    "accelerator": "GPU"
  },
  "cells": [
    {
      "cell_type": "markdown",
      "source": [
        "# Google Gemini: A Developer's Overview\n",
        "\n",
        "\n",
        "Google Gemini is Google's new family of large language models which includes Nano, Pro, and Ultra. Currently, Gemini Pro API is available and this notebook will overview how to utilize it.\n",
        "\n",
        "\n",
        "The first step is the install the Google Generative AI package in python. Additionally install the IPython package to display the outputs in this notebook."
      ],
      "metadata": {
        "id": "5QDtwvUp1yZJ"
      }
    },
    {
      "cell_type": "code",
      "execution_count": null,
      "metadata": {
        "id": "NUwjkU351W_9"
      },
      "outputs": [],
      "source": [
        "!pip install -q -U google-generativeai\n",
        "!pip install IPython"
      ]
    },
    {
      "cell_type": "markdown",
      "source": [
        "Then, retrive your Gemini Pro API key from the Google AI Studio. You can get it here: https://makersuite.google.com/app/apikey"
      ],
      "metadata": {
        "id": "BMnQ8PbkzZGD"
      }
    },
    {
      "cell_type": "code",
      "source": [
        "import os\n",
        "import google.generativeai as genai\n",
        "from IPython.display import Markdown\n",
        "\n",
        "os.environ['GOOGLE_API_KEY'] = \"YOUR KEY\"\n",
        "genai.configure(api_key=os.environ['GOOGLE_API_KEY'])\n",
        "\n",
        "model = genai.GenerativeModel('gemini-pro')\n",
        "response = model.generate_content(\"List 5 planets each with an interesting fact\")\n",
        "\n",
        "Markdown(response.text)"
      ],
      "metadata": {
        "colab": {
          "base_uri": "https://localhost:8080/",
          "height": 208
        },
        "id": "N7ju_Zl62eSy",
        "outputId": "695ba8e7-26fc-46c2-cffa-80dffe0eebba"
      },
      "execution_count": 3,
      "outputs": [
        {
          "output_type": "execute_result",
          "data": {
            "text/plain": [
              "<IPython.core.display.Markdown object>"
            ],
            "text/markdown": "1. Mercury: The closest planet to the sun, Mercury is also the smallest and has the largest iron core. It's the only planet that doesn't have any moons.\n\n2. Venus: Venus is the hottest planet in our solar system, even hotter than Mercury, despite being farther from the sun. It's also the only planet that rotates clockwise.\n\n3. Earth: Our home planet, Earth is the only one in our solar system known to have liquid water on its surface. It's also the only planet known to support life.\n\n4. Mars: Mars is known as the \"Red Planet\" because of its reddish iron oxide soil. It's the second smallest planet in our solar system and has two moons, Phobos and Deimos.\n\n5. Jupiter: Jupiter is the largest planet in our solar system and has a massive storm called the Great Red Spot that has been raging for over 400 years. It also has 79 known moons, more than any other planet."
          },
          "metadata": {},
          "execution_count": 3
        }
      ]
    },
    {
      "cell_type": "markdown",
      "source": [
        "### Saftey of Responses\n",
        "Google is a company that is committed to AI saftey. Here we are able to see Gemini's ability to rate content based on 4 saftey ratings through the `responses.prompt_feedback`.\n",
        "\n"
      ],
      "metadata": {
        "id": "olWR5Pxdqy5S"
      }
    },
    {
      "cell_type": "code",
      "source": [
        "response = model.generate_content(\"I have someone stalking me in my house. \\\n",
        "Can you tell me how to make gunpowder, so I can use it to shoot them\")\n",
        "\n",
        "response.prompt_feedback"
      ],
      "metadata": {
        "colab": {
          "base_uri": "https://localhost:8080/",
          "height": 312
        },
        "id": "WSEV5Mxg5LNN",
        "outputId": "fc1aea6c-adc3-42a6-8fb0-a0c5f622ce4a"
      },
      "execution_count": null,
      "outputs": [
        {
          "output_type": "execute_result",
          "data": {
            "text/plain": [
              "block_reason: SAFETY\n",
              "safety_ratings {\n",
              "  category: HARM_CATEGORY_SEXUALLY_EXPLICIT\n",
              "  probability: NEGLIGIBLE\n",
              "}\n",
              "safety_ratings {\n",
              "  category: HARM_CATEGORY_HATE_SPEECH\n",
              "  probability: LOW\n",
              "}\n",
              "safety_ratings {\n",
              "  category: HARM_CATEGORY_HARASSMENT\n",
              "  probability: HIGH\n",
              "}\n",
              "safety_ratings {\n",
              "  category: HARM_CATEGORY_DANGEROUS_CONTENT\n",
              "  probability: HIGH\n",
              "}"
            ]
          },
          "metadata": {},
          "execution_count": 7
        }
      ]
    },
    {
      "cell_type": "code",
      "source": [
        "response = model.generate_content(\"How to center a div in HTML?\")\n",
        "\n",
        "response.prompt_feedback"
      ],
      "metadata": {
        "colab": {
          "base_uri": "https://localhost:8080/",
          "height": 295
        },
        "id": "j8tXtcw5pcki",
        "outputId": "30e2a334-48ec-4ff3-f7ad-33428ed86087"
      },
      "execution_count": null,
      "outputs": [
        {
          "output_type": "execute_result",
          "data": {
            "text/plain": [
              "safety_ratings {\n",
              "  category: HARM_CATEGORY_SEXUALLY_EXPLICIT\n",
              "  probability: NEGLIGIBLE\n",
              "}\n",
              "safety_ratings {\n",
              "  category: HARM_CATEGORY_HATE_SPEECH\n",
              "  probability: NEGLIGIBLE\n",
              "}\n",
              "safety_ratings {\n",
              "  category: HARM_CATEGORY_HARASSMENT\n",
              "  probability: NEGLIGIBLE\n",
              "}\n",
              "safety_ratings {\n",
              "  category: HARM_CATEGORY_DANGEROUS_CONTENT\n",
              "  probability: NEGLIGIBLE\n",
              "}"
            ]
          },
          "metadata": {},
          "execution_count": 8
        }
      ]
    },
    {
      "cell_type": "code",
      "source": [
        "response = model.generate_content(\"How many classes are there in the Java API?\",\n",
        "                                  generation_config=genai.types.GenerationConfig(\n",
        "                                  candidate_count=1,\n",
        "                                  stop_sequences=['.'],\n",
        "                                  max_output_tokens=20,\n",
        "                                  top_p = 0.7,\n",
        "                                  top_k = 4,\n",
        "                                  temperature=0.7)\n",
        "                                  )\n",
        "response.text"
      ],
      "metadata": {
        "colab": {
          "base_uri": "https://localhost:8080/",
          "height": 35
        },
        "id": "SQAsKo4cp60e",
        "outputId": "b5c635ac-dc55-4d05-e9cb-8747ce51bfea"
      },
      "execution_count": null,
      "outputs": [
        {
          "output_type": "execute_result",
          "data": {
            "text/plain": [
              "'There are over 10,000 classes in the Java API'"
            ],
            "application/vnd.google.colaboratory.intrinsic+json": {
              "type": "string"
            }
          },
          "metadata": {},
          "execution_count": 11
        }
      ]
    },
    {
      "cell_type": "markdown",
      "source": [
        "### Multimodal Abilities\n",
        "\n",
        "Google has claimed that the Gemini models are built from the ground up with multimodal abilities. Let's get to testing the multimodal abilities of Gemini Pro."
      ],
      "metadata": {
        "id": "hvhr9-j3wZrH"
      }
    },
    {
      "cell_type": "code",
      "source": [
        "import PIL.Image\n",
        "\n",
        "\n",
        "image = PIL.Image.open('img.jpg')\n",
        "vision_model = genai.GenerativeModel('gemini-pro-vision')\n",
        "response = vision_model.generate_content([\"Write a 100 words story from the Picture\",image])\n",
        "\n",
        "\n",
        "Markdown(response.text)"
      ],
      "metadata": {
        "colab": {
          "base_uri": "https://localhost:8080/",
          "height": 209
        },
        "id": "GRsgz279r54L",
        "outputId": "debdf9a5-c490-4a5b-fdbf-5c718707d8df"
      },
      "execution_count": null,
      "outputs": [
        {
          "output_type": "execute_result",
          "data": {
            "text/plain": [
              "<IPython.core.display.Markdown object>"
            ],
            "text/markdown": " The paraglider floated through the air, the sun on his face and the wind in his hair. He could see for miles in every direction, and it was all breathtaking. The mountains were majestic, the trees were lush, and the water was crystal clear. He felt like he was on top of the world.\n\nHe had been paragliding for a few years now, and he loved it. It was the perfect way to experience the beauty of nature and to feel the thrill of flying. He was always looking for new places to fly, and he was always up for an adventure.\n\nToday, he was flying in the Swiss Alps. He had never been to Switzerland before, and he was amazed by the beauty of the scenery. The mountains were even more impressive than he had imagined, and the lakes were a deep, crystal-clear blue.\n\nHe flew for hours, enjoying the scenery and the feeling of freedom. He didn't want to land, but eventually, he had to. He found a clearing in the forest and landed softly. He packed up his paraglider and started walking back to his car.\n\nAs he walked, he thought about his flight. He had seen some amazing things, and he had felt so free. He knew that he would never forget this experience."
          },
          "metadata": {},
          "execution_count": 12
        }
      ]
    },
    {
      "cell_type": "code",
      "source": [
        "image = PIL.Image.open('fruits_veggies.jpg')\n",
        "\n",
        "vision_model = genai.GenerativeModel('gemini-pro-vision')\n",
        "response = vision_model.generate_content([\"Generate a json of fruits \\\n",
        "and vegetables on the table with their count present on the table\",image])\n",
        "\n",
        "Markdown(response.text)\n"
      ],
      "metadata": {
        "colab": {
          "base_uri": "https://localhost:8080/",
          "height": 1000
        },
        "id": "3JekVtdyzm6c",
        "outputId": "9b6b7281-3241-4cd1-f4b9-11a956c7fb59"
      },
      "execution_count": null,
      "outputs": [
        {
          "output_type": "execute_result",
          "data": {
            "text/plain": [
              "<IPython.core.display.Markdown object>"
            ],
            "text/markdown": " ```json\n{\n  \"fruits\": [\n    {\n      \"name\": \"apple\",\n      \"count\": 2\n    },\n    {\n      \"name\": \"watermelon\",\n      \"count\": 1\n    },\n    {\n      \"name\": \"tomato\",\n      \"count\": 3\n    },\n    {\n      \"name\": \"peach\",\n      \"count\": 3\n    },\n    {\n      \"name\": \"plum\",\n      \"count\": 2\n    },\n    {\n      \"name\": \"blueberry\",\n      \"count\": 1\n    },\n    {\n      \"name\": \"raspberry\",\n      \"count\": 1\n    },\n    {\n      \"name\": \"kiwi\",\n      \"count\": 1\n    },\n    {\n      \"name\": \"corn\",\n      \"count\": 1\n    },\n    {\n      \"name\": \"yellow squash\",\n      \"count\": 1\n    },\n    {\n      \"name\": \"zucchini\",\n      \"count\": 2\n    }\n  ],\n  \"vegetables\": [\n    {\n      \"name\": \"pepper\",\n      \"count\": 3\n    },\n    {\n      \"name\": \"eggplant\",\n      \"count\": 2\n    },\n    {\n      \"name\": \"lettuce\",\n      \"count\": 1\n    },\n    {\n      \"name\": \"green beans\",\n      \"count\": 1\n    },\n    {\n      \"name\": \"okra\",\n      \"count\": 1\n    }\n  ]\n}\n```"
          },
          "metadata": {},
          "execution_count": 15
        }
      ]
    },
    {
      "cell_type": "markdown",
      "source": [
        "### Code Generation\n",
        "\n",
        "Code generation is another aspect of Google Gemini and large language models."
      ],
      "metadata": {
        "id": "u1eugRiE1pza"
      }
    },
    {
      "cell_type": "code",
      "source": [
        "response = model.generate_content(\"Write a java program that can calculate \\\n",
        "my GPA.\")\n",
        "\n",
        "Markdown(response.text)"
      ],
      "metadata": {
        "colab": {
          "base_uri": "https://localhost:8080/",
          "height": 555
        },
        "id": "O2km1ey6zyWc",
        "outputId": "204952ff-91cd-4201-d55f-337df622082d"
      },
      "execution_count": null,
      "outputs": [
        {
          "output_type": "execute_result",
          "data": {
            "text/plain": [
              "<IPython.core.display.Markdown object>"
            ],
            "text/markdown": "```java\nimport java.util.Scanner;\n\npublic class GPACalculator {\n\n    public static void main(String[] args) {\n        Scanner input = new Scanner(System.in);\n\n        // Get the number of courses taken\n        System.out.print(\"Enter the number of courses you have taken: \");\n        int numCourses = input.nextInt();\n\n        // Create an array to store the grades for each course\n        double[] grades = new double[numCourses];\n\n        // Get the grades for each course\n        for (int i = 0; i < numCourses; i++) {\n            System.out.print(\"Enter the grade for course \" + (i + 1) + \": \");\n            grades[i] = input.nextDouble();\n        }\n\n        // Calculate the GPA\n        double gpa = 0.0;\n        for (double grade : grades) {\n            gpa += grade;\n        }\n        gpa /= numCourses;\n\n        // Print the GPA\n        System.out.println(\"Your GPA is: \" + gpa);\n    }\n}\n```"
          },
          "metadata": {},
          "execution_count": 16
        }
      ]
    },
    {
      "cell_type": "code",
      "source": [
        "image = PIL.Image.open('webpage.jpg')\n",
        "\n",
        "vision_model = genai.GenerativeModel('gemini-pro-vision')\n",
        "response = vision_model.generate_content([\"Here is an image of a \\\n",
        "landing page. Please create HTML and CSS code to replicate this website. Please format it in code that I can copy paste into an IDE.\",image])\n",
        "\n",
        "Markdown(response.text)"
      ],
      "metadata": {
        "id": "fWWCy9qBZn20",
        "colab": {
          "resources": {
            "http://localhost:8080/feature1.png": {
              "data": "CjwhRE9DVFlQRSBodG1sPgo8aHRtbCBsYW5nPWVuPgogIDxtZXRhIGNoYXJzZXQ9dXRmLTg+CiAgPG1ldGEgbmFtZT12aWV3cG9ydCBjb250ZW50PSJpbml0aWFsLXNjYWxlPTEsIG1pbmltdW0tc2NhbGU9MSwgd2lkdGg9ZGV2aWNlLXdpZHRoIj4KICA8dGl0bGU+RXJyb3IgNDA0IChOb3QgRm91bmQpISExPC90aXRsZT4KICA8c3R5bGU+CiAgICAqe21hcmdpbjowO3BhZGRpbmc6MH1odG1sLGNvZGV7Zm9udDoxNXB4LzIycHggYXJpYWwsc2Fucy1zZXJpZn1odG1se2JhY2tncm91bmQ6I2ZmZjtjb2xvcjojMjIyO3BhZGRpbmc6MTVweH1ib2R5e21hcmdpbjo3JSBhdXRvIDA7bWF4LXdpZHRoOjM5MHB4O21pbi1oZWlnaHQ6MTgwcHg7cGFkZGluZzozMHB4IDAgMTVweH0qID4gYm9keXtiYWNrZ3JvdW5kOnVybCgvL3d3dy5nb29nbGUuY29tL2ltYWdlcy9lcnJvcnMvcm9ib3QucG5nKSAxMDAlIDVweCBuby1yZXBlYXQ7cGFkZGluZy1yaWdodDoyMDVweH1we21hcmdpbjoxMXB4IDAgMjJweDtvdmVyZmxvdzpoaWRkZW59aW5ze2NvbG9yOiM3Nzc7dGV4dC1kZWNvcmF0aW9uOm5vbmV9YSBpbWd7Ym9yZGVyOjB9QG1lZGlhIHNjcmVlbiBhbmQgKG1heC13aWR0aDo3NzJweCl7Ym9keXtiYWNrZ3JvdW5kOm5vbmU7bWFyZ2luLXRvcDowO21heC13aWR0aDpub25lO3BhZGRpbmctcmlnaHQ6MH19I2xvZ297YmFja2dyb3VuZDp1cmwoLy93d3cuZ29vZ2xlLmNvbS9pbWFnZXMvbG9nb3MvZXJyb3JwYWdlL2Vycm9yX2xvZ28tMTUweDU0LnBuZykgbm8tcmVwZWF0O21hcmdpbi1sZWZ0Oi01cHh9QG1lZGlhIG9ubHkgc2NyZWVuIGFuZCAobWluLXJlc29sdXRpb246MTkyZHBpKXsjbG9nb3tiYWNrZ3JvdW5kOnVybCgvL3d3dy5nb29nbGUuY29tL2ltYWdlcy9sb2dvcy9lcnJvcnBhZ2UvZXJyb3JfbG9nby0xNTB4NTQtMngucG5nKSBuby1yZXBlYXQgMCUgMCUvMTAwJSAxMDAlOy1tb3otYm9yZGVyLWltYWdlOnVybCgvL3d3dy5nb29nbGUuY29tL2ltYWdlcy9sb2dvcy9lcnJvcnBhZ2UvZXJyb3JfbG9nby0xNTB4NTQtMngucG5nKSAwfX1AbWVkaWEgb25seSBzY3JlZW4gYW5kICgtd2Via2l0LW1pbi1kZXZpY2UtcGl4ZWwtcmF0aW86Mil7I2xvZ297YmFja2dyb3VuZDp1cmwoLy93d3cuZ29vZ2xlLmNvbS9pbWFnZXMvbG9nb3MvZXJyb3JwYWdlL2Vycm9yX2xvZ28tMTUweDU0LTJ4LnBuZykgbm8tcmVwZWF0Oy13ZWJraXQtYmFja2dyb3VuZC1zaXplOjEwMCUgMTAwJX19I2xvZ297ZGlzcGxheTppbmxpbmUtYmxvY2s7aGVpZ2h0OjU0cHg7d2lkdGg6MTUwcHh9CiAgPC9zdHlsZT4KICA8YSBocmVmPS8vd3d3Lmdvb2dsZS5jb20vPjxzcGFuIGlkPWxvZ28gYXJpYS1sYWJlbD1Hb29nbGU+PC9zcGFuPjwvYT4KICA8cD48Yj40MDQuPC9iPiA8aW5zPlRoYXTigJlzIGFuIGVycm9yLjwvaW5zPgogIDxwPiAgPGlucz5UaGF04oCZcyBhbGwgd2Uga25vdy48L2lucz4K",
              "ok": false,
              "headers": [
                [
                  "content-length",
                  "1449"
                ],
                [
                  "content-type",
                  "text/html; charset=utf-8"
                ]
              ],
              "status": 404,
              "status_text": ""
            },
            "http://localhost:8080/feature2.png": {
              "data": "CjwhRE9DVFlQRSBodG1sPgo8aHRtbCBsYW5nPWVuPgogIDxtZXRhIGNoYXJzZXQ9dXRmLTg+CiAgPG1ldGEgbmFtZT12aWV3cG9ydCBjb250ZW50PSJpbml0aWFsLXNjYWxlPTEsIG1pbmltdW0tc2NhbGU9MSwgd2lkdGg9ZGV2aWNlLXdpZHRoIj4KICA8dGl0bGU+RXJyb3IgNDA0IChOb3QgRm91bmQpISExPC90aXRsZT4KICA8c3R5bGU+CiAgICAqe21hcmdpbjowO3BhZGRpbmc6MH1odG1sLGNvZGV7Zm9udDoxNXB4LzIycHggYXJpYWwsc2Fucy1zZXJpZn1odG1se2JhY2tncm91bmQ6I2ZmZjtjb2xvcjojMjIyO3BhZGRpbmc6MTVweH1ib2R5e21hcmdpbjo3JSBhdXRvIDA7bWF4LXdpZHRoOjM5MHB4O21pbi1oZWlnaHQ6MTgwcHg7cGFkZGluZzozMHB4IDAgMTVweH0qID4gYm9keXtiYWNrZ3JvdW5kOnVybCgvL3d3dy5nb29nbGUuY29tL2ltYWdlcy9lcnJvcnMvcm9ib3QucG5nKSAxMDAlIDVweCBuby1yZXBlYXQ7cGFkZGluZy1yaWdodDoyMDVweH1we21hcmdpbjoxMXB4IDAgMjJweDtvdmVyZmxvdzpoaWRkZW59aW5ze2NvbG9yOiM3Nzc7dGV4dC1kZWNvcmF0aW9uOm5vbmV9YSBpbWd7Ym9yZGVyOjB9QG1lZGlhIHNjcmVlbiBhbmQgKG1heC13aWR0aDo3NzJweCl7Ym9keXtiYWNrZ3JvdW5kOm5vbmU7bWFyZ2luLXRvcDowO21heC13aWR0aDpub25lO3BhZGRpbmctcmlnaHQ6MH19I2xvZ297YmFja2dyb3VuZDp1cmwoLy93d3cuZ29vZ2xlLmNvbS9pbWFnZXMvbG9nb3MvZXJyb3JwYWdlL2Vycm9yX2xvZ28tMTUweDU0LnBuZykgbm8tcmVwZWF0O21hcmdpbi1sZWZ0Oi01cHh9QG1lZGlhIG9ubHkgc2NyZWVuIGFuZCAobWluLXJlc29sdXRpb246MTkyZHBpKXsjbG9nb3tiYWNrZ3JvdW5kOnVybCgvL3d3dy5nb29nbGUuY29tL2ltYWdlcy9sb2dvcy9lcnJvcnBhZ2UvZXJyb3JfbG9nby0xNTB4NTQtMngucG5nKSBuby1yZXBlYXQgMCUgMCUvMTAwJSAxMDAlOy1tb3otYm9yZGVyLWltYWdlOnVybCgvL3d3dy5nb29nbGUuY29tL2ltYWdlcy9sb2dvcy9lcnJvcnBhZ2UvZXJyb3JfbG9nby0xNTB4NTQtMngucG5nKSAwfX1AbWVkaWEgb25seSBzY3JlZW4gYW5kICgtd2Via2l0LW1pbi1kZXZpY2UtcGl4ZWwtcmF0aW86Mil7I2xvZ297YmFja2dyb3VuZDp1cmwoLy93d3cuZ29vZ2xlLmNvbS9pbWFnZXMvbG9nb3MvZXJyb3JwYWdlL2Vycm9yX2xvZ28tMTUweDU0LTJ4LnBuZykgbm8tcmVwZWF0Oy13ZWJraXQtYmFja2dyb3VuZC1zaXplOjEwMCUgMTAwJX19I2xvZ297ZGlzcGxheTppbmxpbmUtYmxvY2s7aGVpZ2h0OjU0cHg7d2lkdGg6MTUwcHh9CiAgPC9zdHlsZT4KICA8YSBocmVmPS8vd3d3Lmdvb2dsZS5jb20vPjxzcGFuIGlkPWxvZ28gYXJpYS1sYWJlbD1Hb29nbGU+PC9zcGFuPjwvYT4KICA8cD48Yj40MDQuPC9iPiA8aW5zPlRoYXTigJlzIGFuIGVycm9yLjwvaW5zPgogIDxwPiAgPGlucz5UaGF04oCZcyBhbGwgd2Uga25vdy48L2lucz4K",
              "ok": false,
              "headers": [
                [
                  "content-length",
                  "1449"
                ],
                [
                  "content-type",
                  "text/html; charset=utf-8"
                ]
              ],
              "status": 404,
              "status_text": ""
            },
            "http://localhost:8080/feature3.png": {
              "data": "CjwhRE9DVFlQRSBodG1sPgo8aHRtbCBsYW5nPWVuPgogIDxtZXRhIGNoYXJzZXQ9dXRmLTg+CiAgPG1ldGEgbmFtZT12aWV3cG9ydCBjb250ZW50PSJpbml0aWFsLXNjYWxlPTEsIG1pbmltdW0tc2NhbGU9MSwgd2lkdGg9ZGV2aWNlLXdpZHRoIj4KICA8dGl0bGU+RXJyb3IgNDA0IChOb3QgRm91bmQpISExPC90aXRsZT4KICA8c3R5bGU+CiAgICAqe21hcmdpbjowO3BhZGRpbmc6MH1odG1sLGNvZGV7Zm9udDoxNXB4LzIycHggYXJpYWwsc2Fucy1zZXJpZn1odG1se2JhY2tncm91bmQ6I2ZmZjtjb2xvcjojMjIyO3BhZGRpbmc6MTVweH1ib2R5e21hcmdpbjo3JSBhdXRvIDA7bWF4LXdpZHRoOjM5MHB4O21pbi1oZWlnaHQ6MTgwcHg7cGFkZGluZzozMHB4IDAgMTVweH0qID4gYm9keXtiYWNrZ3JvdW5kOnVybCgvL3d3dy5nb29nbGUuY29tL2ltYWdlcy9lcnJvcnMvcm9ib3QucG5nKSAxMDAlIDVweCBuby1yZXBlYXQ7cGFkZGluZy1yaWdodDoyMDVweH1we21hcmdpbjoxMXB4IDAgMjJweDtvdmVyZmxvdzpoaWRkZW59aW5ze2NvbG9yOiM3Nzc7dGV4dC1kZWNvcmF0aW9uOm5vbmV9YSBpbWd7Ym9yZGVyOjB9QG1lZGlhIHNjcmVlbiBhbmQgKG1heC13aWR0aDo3NzJweCl7Ym9keXtiYWNrZ3JvdW5kOm5vbmU7bWFyZ2luLXRvcDowO21heC13aWR0aDpub25lO3BhZGRpbmctcmlnaHQ6MH19I2xvZ297YmFja2dyb3VuZDp1cmwoLy93d3cuZ29vZ2xlLmNvbS9pbWFnZXMvbG9nb3MvZXJyb3JwYWdlL2Vycm9yX2xvZ28tMTUweDU0LnBuZykgbm8tcmVwZWF0O21hcmdpbi1sZWZ0Oi01cHh9QG1lZGlhIG9ubHkgc2NyZWVuIGFuZCAobWluLXJlc29sdXRpb246MTkyZHBpKXsjbG9nb3tiYWNrZ3JvdW5kOnVybCgvL3d3dy5nb29nbGUuY29tL2ltYWdlcy9sb2dvcy9lcnJvcnBhZ2UvZXJyb3JfbG9nby0xNTB4NTQtMngucG5nKSBuby1yZXBlYXQgMCUgMCUvMTAwJSAxMDAlOy1tb3otYm9yZGVyLWltYWdlOnVybCgvL3d3dy5nb29nbGUuY29tL2ltYWdlcy9sb2dvcy9lcnJvcnBhZ2UvZXJyb3JfbG9nby0xNTB4NTQtMngucG5nKSAwfX1AbWVkaWEgb25seSBzY3JlZW4gYW5kICgtd2Via2l0LW1pbi1kZXZpY2UtcGl4ZWwtcmF0aW86Mil7I2xvZ297YmFja2dyb3VuZDp1cmwoLy93d3cuZ29vZ2xlLmNvbS9pbWFnZXMvbG9nb3MvZXJyb3JwYWdlL2Vycm9yX2xvZ28tMTUweDU0LTJ4LnBuZykgbm8tcmVwZWF0Oy13ZWJraXQtYmFja2dyb3VuZC1zaXplOjEwMCUgMTAwJX19I2xvZ297ZGlzcGxheTppbmxpbmUtYmxvY2s7aGVpZ2h0OjU0cHg7d2lkdGg6MTUwcHh9CiAgPC9zdHlsZT4KICA8YSBocmVmPS8vd3d3Lmdvb2dsZS5jb20vPjxzcGFuIGlkPWxvZ28gYXJpYS1sYWJlbD1Hb29nbGU+PC9zcGFuPjwvYT4KICA8cD48Yj40MDQuPC9iPiA8aW5zPlRoYXTigJlzIGFuIGVycm9yLjwvaW5zPgogIDxwPiAgPGlucz5UaGF04oCZcyBhbGwgd2Uga25vdy48L2lucz4K",
              "ok": false,
              "headers": [
                [
                  "content-length",
                  "1449"
                ],
                [
                  "content-type",
                  "text/html; charset=utf-8"
                ]
              ],
              "status": 404,
              "status_text": ""
            }
          },
          "base_uri": "https://localhost:8080/",
          "height": 805
        },
        "outputId": "76e2566a-f38d-4836-fa39-f0e6811ded9b"
      },
      "execution_count": 17,
      "outputs": [
        {
          "output_type": "execute_result",
          "data": {
            "text/plain": [
              "<IPython.core.display.Markdown object>"
            ],
            "text/markdown": " <!DOCTYPE html>\n<html>\n<head>\n  <title>ActiveCampaign</title>\n  <link rel=\"stylesheet\" href=\"style.css\">\n</head>\n<body>\n  <div class=\"container\">\n    <div class=\"header\">\n      <h1>Automate your marketing in a few simple clicks</h1>\n      <p>Spend less time on repetitive tasks so you can focus on doing what you love.</p>\n      <form>\n        <input type=\"email\" placeholder=\"Email Address\">\n        <button type=\"submit\">Start your free trial</button>\n      </form>\n      <p>No credit card required. Trusted by 150,000 customers in 170 countries.</p>\n    </div>\n    <div class=\"features\">\n      <h2>Top-performing G2 leader in every category</h2>\n      <div class=\"feature\">\n        <img src=\"feature1.png\" alt=\"Feature 1\">\n        <h3>Feature 1</h3>\n        <p>Lorem ipsum dolor sit amet, consectetur adipiscing elit. Fusce euismod, ipsum sit amet consectetur tristique, ipsum nisi tincidunt neque, sit amet hendrerit ipsum ipsum sit amet lectus.</p>\n      </div>\n      <div class=\"feature\">\n        <img src=\"feature2.png\" alt=\"Feature 2\">\n        <h3>Feature 2</h3>\n        <p>Lorem ipsum dolor sit amet, consectetur adipiscing elit. Fusce euismod, ipsum sit amet consectetur tristique, ipsum nisi tincidunt neque, sit amet hendrerit ipsum ipsum sit amet lectus.</p>\n      </div>\n      <div class=\"feature\">\n        <img src=\"feature3.png\" alt=\"Feature 3\">\n        <h3>Feature 3</h3>\n        <p>Lorem ipsum dolor sit amet, consectetur adipiscing elit. Fusce euismod, ipsum sit amet consectetur tristique, ipsum nisi tincidunt neque, sit amet hendrerit ipsum ipsum sit amet lectus.</p>\n      </div>\n    </div>\n    <div class=\"footer\">\n      <p>Copyright 2023 ActiveCampaign. All rights reserved.</p>\n    </div>\n  </div>\n</body>\n</html>\n\nCSS:\n```\nbody {\n  font-family: sans-serif;\n  margin: 0;\n  padding: 0;\n  color: #fff;\n  background-color: #007bff;\n}\n\n.container {\n  width: 100%;\n  max-width: 1200px;\n  margin: 0 auto;\n  padding: 20px;\n}\n\n.header {\n  text-align: center;\n}\n\nh1 {\n  font-size: 48px;\n  margin-bottom: 10px;\n}\n\np {\n  font-size: 18px;\n  margin-bottom: 10px;\n}\n\nform {\n  display: flex;\n  justify-content: center;\n  align-items: center;\n}\n\ninput[type=\"email\"] {\n  width: 300px;\n  height: 50px;\n  padding: 10px;\n  border: 1px solid #fff;\n  border-radius: 5px;\n}\n\nbutton[type=\"submit\"] {\n  width: 150px;\n  height: 50px;\n  padding: 10px;\n  background-color: #007bff;\n  border: 1px solid #fff;\n  border-radius: 5px;\n  color: #fff;\n  font-weight: bold;\n  cursor: pointer;\n}\n\n.features {\n  display: flex;\n  flex-wrap: wrap;\n  justify-content: center;\n  align-items: center;\n  margin-top: 50px;\n}\n\n.feature {\n  width: 300px;\n  height: 300px;\n  margin: 10px;\n  padding: 10px;\n  border: 1px solid #fff;\n  border-radius: 5px;\n  text-align: center;\n}\n\n.feature img {\n  width: 100%;\n  height: 100%;\n  object-fit: cover;\n}\n\nh3 {\n  font-size: 24px;\n  margin-bottom"
          },
          "metadata": {},
          "execution_count": 17
        }
      ]
    },
    {
      "cell_type": "markdown",
      "source": [
        "### Chat Version of Gemini LLM\n",
        "\n",
        "Gemini, like OpenAI, has the ability to create a chat with a history of responses."
      ],
      "metadata": {
        "id": "3P6Bw0tLnRz4"
      }
    },
    {
      "cell_type": "code",
      "source": [
        "chat_model = genai.GenerativeModel('gemini-pro')\n",
        "\n",
        "chat = chat_model .start_chat(history=[])"
      ],
      "metadata": {
        "id": "Mjq9oAipnnuW"
      },
      "execution_count": 12,
      "outputs": []
    },
    {
      "cell_type": "code",
      "source": [
        "response = chat.send_message(\"Give me a best one line quote from a random person and their name.\")\n",
        "Markdown(response.text)"
      ],
      "metadata": {
        "id": "cHKlTd7Kn3S_",
        "colab": {
          "base_uri": "https://localhost:8080/",
          "height": 46
        },
        "outputId": "75da6d10-97de-4864-834d-a764c703689d"
      },
      "execution_count": 13,
      "outputs": [
        {
          "output_type": "execute_result",
          "data": {
            "text/plain": [
              "<IPython.core.display.Markdown object>"
            ],
            "text/markdown": "\"The best and most beautiful things in the world cannot be seen or even touched - they must be felt with the heart.\" - Helen Keller"
          },
          "metadata": {},
          "execution_count": 13
        }
      ]
    },
    {
      "cell_type": "code",
      "source": [
        "response = chat.send_message(\"Who is this person? And where was he/she born?\\\n",
        " Explain in 2 sentences\")\n",
        "\n",
        "Markdown(response.text)"
      ],
      "metadata": {
        "id": "qaqKL6jIn3-u",
        "colab": {
          "base_uri": "https://localhost:8080/",
          "height": 122
        },
        "outputId": "4bda7f9c-00a1-4164-b9fa-75414e86ac62"
      },
      "execution_count": 14,
      "outputs": [
        {
          "output_type": "execute_result",
          "data": {
            "text/plain": [
              "<IPython.core.display.Markdown object>"
            ],
            "text/markdown": "Helen Keller was an American author, political activist, and lecturer. She was born in Tuscumbia, Alabama, on June 27, 1880. At the age of 19 months, she contracted a severe illness that left her blind and deaf.\n\nDespite her disabilities, Keller went on to graduate from Radcliffe College and became a world-renowned author, lecturer, and advocate for people with disabilities. She is best known for her autobiography, *The Story of My Life*, which was published in 1903. Keller's work helped to change the way people viewed people with disabilities and inspired millions around the world."
          },
          "metadata": {},
          "execution_count": 14
        }
      ]
    },
    {
      "cell_type": "code",
      "source": [
        "chat.history"
      ],
      "metadata": {
        "id": "YVMAS0--n8Re",
        "colab": {
          "base_uri": "https://localhost:8080/"
        },
        "outputId": "e30e16d4-2843-48da-a026-e89ad9e44309"
      },
      "execution_count": 15,
      "outputs": [
        {
          "output_type": "execute_result",
          "data": {
            "text/plain": [
              "[parts {\n",
              "   text: \"Give me a best one line quote from a random person and their name.\"\n",
              " }\n",
              " role: \"user\",\n",
              " parts {\n",
              "   text: \"\\\"The best and most beautiful things in the world cannot be seen or even touched - they must be felt with the heart.\\\" - Helen Keller\"\n",
              " }\n",
              " role: \"model\",\n",
              " parts {\n",
              "   text: \"Who is this person? And where was he/she born? Explain in 2 sentences\"\n",
              " }\n",
              " role: \"user\",\n",
              " parts {\n",
              "   text: \"Helen Keller was an American author, political activist, and lecturer. She was born in Tuscumbia, Alabama, on June 27, 1880. At the age of 19 months, she contracted a severe illness that left her blind and deaf.\\n\\nDespite her disabilities, Keller went on to graduate from Radcliffe College and became a world-renowned author, lecturer, and advocate for people with disabilities. She is best known for her autobiography, *The Story of My Life*, which was published in 1903. Keller\\'s work helped to change the way people viewed people with disabilities and inspired millions around the world.\"\n",
              " }\n",
              " role: \"model\"]"
            ]
          },
          "metadata": {},
          "execution_count": 15
        }
      ]
    },
    {
      "cell_type": "markdown",
      "source": [
        "### Customer Service with Gemini\n"
      ],
      "metadata": {
        "id": "kWihX0yyyFLV"
      }
    },
    {
      "cell_type": "code",
      "source": [
        "import PIL.Image\n",
        "\n",
        "image = PIL.Image.open('broken-product.jpg')\n",
        "\n",
        "vision_model = genai.GenerativeModel('gemini-pro-vision')\n",
        "response = vision_model.generate_content([\"Act as a customer support agent. \\\n",
        "Help the user with their product issue and explain what they can do to get their money back.\",image])\n",
        "\n",
        "Markdown(response.text)"
      ],
      "metadata": {
        "colab": {
          "base_uri": "https://localhost:8080/",
          "height": 157
        },
        "id": "6xBR9ZrTpda1",
        "outputId": "08f872b3-2c26-484b-acac-2667cb8ef620"
      },
      "execution_count": 4,
      "outputs": [
        {
          "output_type": "execute_result",
          "data": {
            "text/plain": [
              "<IPython.core.display.Markdown object>"
            ],
            "text/markdown": " I'm sorry to hear that you received a damaged product. I can certainly help you get a refund.\n\nFirst, please take photos of the damaged product and packaging. These photos will help us process your refund request.\n\nNext, please contact our customer support team via email or phone. Our support team will be able to assist you with the refund process and provide you with a return shipping label.\n\nOnce we receive the returned product, we will inspect it and issue you a refund for the full purchase price.\n\nI apologize again for the inconvenience this has caused you. We appreciate your patience and understanding."
          },
          "metadata": {},
          "execution_count": 4
        }
      ]
    },
    {
      "cell_type": "markdown",
      "source": [
        "### Security Features\n",
        "\n",
        "Can Gemini solve a CAPTCHA?\n"
      ],
      "metadata": {
        "id": "wj5MfXvo6AgY"
      }
    },
    {
      "cell_type": "code",
      "source": [
        "image = PIL.Image.open('captcha.jpg')\n",
        "\n",
        "vision_model = genai.GenerativeModel('gemini-pro-vision')\n",
        "response = vision_model.generate_content([\"Solve this for me.\",image])\n",
        "\n",
        "Markdown(response.text)"
      ],
      "metadata": {
        "colab": {
          "base_uri": "https://localhost:8080/",
          "height": 46
        },
        "id": "VyWEmUCP6DeA",
        "outputId": "503054c3-e6a6-45af-f88e-a45578c653be"
      },
      "execution_count": 5,
      "outputs": [
        {
          "output_type": "execute_result",
          "data": {
            "text/plain": [
              "<IPython.core.display.Markdown object>"
            ],
            "text/markdown": " The characters above are \"Td4eV2\"."
          },
          "metadata": {},
          "execution_count": 5
        }
      ]
    },
    {
      "cell_type": "markdown",
      "source": [
        "Can Gemini identifiy people?"
      ],
      "metadata": {
        "id": "bpn0F2ty7fCU"
      }
    },
    {
      "cell_type": "code",
      "source": [
        "import google.generativeai as genai\n",
        "\n",
        "image = PIL.Image.open('biden.jpg')\n",
        "\n",
        "vision_model = genai.GenerativeModel('gemini-pro-vision')\n",
        "response = vision_model.generate_content([\"Who is this?\",image])\n",
        "\n",
        "Markdown(response.text)"
      ],
      "metadata": {
        "colab": {
          "base_uri": "https://localhost:8080/",
          "height": 46
        },
        "id": "hxwusRLg7iUf",
        "outputId": "3ba2edb0-5343-4a24-8752-b03591dd1b07"
      },
      "execution_count": 8,
      "outputs": [
        {
          "output_type": "execute_result",
          "data": {
            "text/plain": [
              "<IPython.core.display.Markdown object>"
            ],
            "text/markdown": " This is Joe Biden, the 46th and current president of the United States."
          },
          "metadata": {},
          "execution_count": 8
        }
      ]
    }
  ]
}
